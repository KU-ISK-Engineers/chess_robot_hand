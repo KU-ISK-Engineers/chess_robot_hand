{
 "cells": [
  {
   "cell_type": "markdown",
   "metadata": {},
   "source": [
    "# Rotation chess board relative to the X-axis of robot's coordinate system"
   ]
  },
  {
   "cell_type": "code",
   "execution_count": 24,
   "metadata": {},
   "outputs": [],
   "source": [
    "# Initial coordinates\n",
    "\n",
    "a1_real = (224.37, 97.78)\n",
    "h1_real = (226.67, -92.26)\n",
    "a8_real = (413.05, 98.88)"
   ]
  },
  {
   "cell_type": "code",
   "execution_count": 25,
   "metadata": {},
   "outputs": [
    {
     "data": {
      "text/plain": [
       "(-1.5586942024430779, -89.30659935149829)"
      ]
     },
     "execution_count": 25,
     "metadata": {},
     "output_type": "execute_result"
    }
   ],
   "source": [
    "# Angle calculation between a1 and h1\n",
    "import math\n",
    "\n",
    "vector_x = h1_real[0] - a1_real[0]  # Difference in X-coordinates\n",
    "vector_y = h1_real[1] - a1_real[1]  # Difference in Y-coordinates\n",
    "\n",
    "x_angle_rad = math.atan2(vector_y, vector_x)\n",
    "x_angle_deg = math.degrees(x_angle_rad)\n",
    "\n",
    "x_angle_rad, x_angle_deg"
   ]
  },
  {
   "cell_type": "code",
   "execution_count": 26,
   "metadata": {},
   "outputs": [
    {
     "data": {
      "text/plain": [
       "(27.15055965898159, 26.954213572955865)"
      ]
     },
     "execution_count": 26,
     "metadata": {},
     "output_type": "execute_result"
    }
   ],
   "source": [
    "# Square size calculation\n",
    "vector_h1_a1 = (h1_real[0] - a1_real[0], h1_real[1] - a1_real[1])\n",
    "vector_a8_a1 = (a8_real[0] - a1_real[0], a8_real[1] - a1_real[1])\n",
    "\n",
    "# Calculate aligned components using the rotation angle\n",
    "aligned_x = abs(vector_h1_a1[0] * math.cos(x_angle_rad) + vector_h1_a1[1] * math.sin(x_angle_rad))\n",
    "aligned_y = abs(-vector_a8_a1[0] * math.sin(x_angle_rad) + vector_a8_a1[1] * math.cos(x_angle_rad))\n",
    "\n",
    "square_size_x = aligned_x / 7 # 7 intervals between 8 squares\n",
    "square_size_y = aligned_y / 7\n",
    "\n",
    "square_size_x, square_size_y"
   ]
  },
  {
   "cell_type": "code",
   "execution_count": 27,
   "metadata": {},
   "outputs": [],
   "source": [
    "# Coordinate calculation for square based on square sizes, rotation degree and a1 square\n",
    "\n",
    "def coord(row, col, offset_x=0.0, offset_y=0.0):\n",
    "    # Calculate the displacement for the square's center in the chessboard coordinate system\n",
    "    local_x = col * square_size_x  # Horizontal displacement (columns)\n",
    "    local_y = row * square_size_y  # Vertical displacement (rows)\n",
    "    \n",
    "    # Add offsets for specific positions within the square\n",
    "    local_x += offset_x * (square_size_x / 2)  # Offset within the square horizontally\n",
    "    local_y += offset_y * (square_size_y / 2)  # Offset within the square vertically\n",
    "    \n",
    "    # Apply rotation\n",
    "    rotated_x = local_x * math.cos(x_angle_rad) - local_y * math.sin(x_angle_rad)\n",
    "    rotated_y = local_x * math.sin(x_angle_rad) + local_y * math.cos(x_angle_rad)\n",
    "    \n",
    "    # Translate to robot coordinate system (origin at a1)\n",
    "    robot_x = a1_real[0] + rotated_x\n",
    "    robot_y = a1_real[1] + rotated_y\n",
    "    \n",
    "    return robot_x, robot_y"
   ]
  },
  {
   "cell_type": "code",
   "execution_count": 28,
   "metadata": {},
   "outputs": [
    {
     "data": {
      "text/plain": [
       "((224.37, 97.78),\n",
       " (226.66999999999996, -92.25999999999999),\n",
       " (413.0356780465303, 100.06336697277948),\n",
       " (415.33567804653023, -89.97663302722052))"
      ]
     },
     "execution_count": 28,
     "metadata": {},
     "output_type": "execute_result"
    }
   ],
   "source": [
    "# Centers of corner squares\n",
    "(coord(0, 0), coord(0, 7), coord(7, 0), coord(7, 7))"
   ]
  },
  {
   "cell_type": "code",
   "execution_count": 29,
   "metadata": {},
   "outputs": [
    {
     "data": {
      "text/plain": [
       "((210.72959442524785, 111.1911880733729),\n",
       " (213.35816585381923, -105.99738335519854),\n",
       " (426.347512192711, 113.80075032797802),\n",
       " (428.9760836212824, -103.38782110059341))"
      ]
     },
     "execution_count": 29,
     "metadata": {},
     "output_type": "execute_result"
    }
   ],
   "source": [
    "# Corners of the chesboard\n",
    "(coord(0, 0, -1, -1), coord(0, 7, 1, -1), coord(7, 0, -1, 1), coord(7, 7, 1, 1))"
   ]
  },
  {
   "cell_type": "markdown",
   "metadata": {},
   "source": [
    "# Rotation captured pieces shelf relative to the X-axis of robot's coordinate system"
   ]
  },
  {
   "cell_type": "code",
   "execution_count": 30,
   "metadata": {},
   "outputs": [],
   "source": [
    "# Initial Coordinates\n",
    "\n",
    "captured_bottom_left = (95.58, -238.95)\n",
    "captured_bottom_right = (-80.28, -238.94)\n",
    "captured_top_left = (95.58, -264.26)"
   ]
  },
  {
   "cell_type": "code",
   "execution_count": 31,
   "metadata": {},
   "outputs": [
    {
     "data": {
      "text/plain": [
       "(3.1415357901757752, 179.99674196636806)"
      ]
     },
     "execution_count": 31,
     "metadata": {},
     "output_type": "execute_result"
    }
   ],
   "source": [
    "# Angle calculation between captured_bottom_left and captured_bottom_right\n",
    "import math\n",
    "\n",
    "vector_x = captured_bottom_right[0] - captured_bottom_left[0]  # Difference in X-coordinates\n",
    "vector_y = captured_bottom_right[1] - captured_bottom_left[1]  # Difference in Y-coordinates\n",
    "\n",
    "x_angle_rad = math.atan2(vector_y, vector_x)\n",
    "x_angle_deg = math.degrees(x_angle_rad)\n",
    "\n",
    "x_angle_rad, x_angle_deg"
   ]
  },
  {
   "cell_type": "code",
   "execution_count": 32,
   "metadata": {},
   "outputs": [
    {
     "data": {
      "text/plain": [
       "(25.122857183473865, 25.30999995908072)"
      ]
     },
     "execution_count": 32,
     "metadata": {},
     "output_type": "execute_result"
    }
   ],
   "source": [
    "# Square size calculation\n",
    "vector_br_bl = (captured_bottom_right[0] - captured_bottom_left[0], \n",
    "                captured_bottom_right[1] - captured_bottom_left[1])\n",
    "vector_tl_bl = (captured_top_left[0] - captured_bottom_left[0], \n",
    "                captured_top_left[1] - captured_bottom_left[1])\n",
    "\n",
    "# Calculate aligned components using the captured rotation angle\n",
    "aligned_x = abs(vector_br_bl[0] * math.cos(x_angle_rad) + vector_br_bl[1] * math.sin(x_angle_rad))\n",
    "aligned_y = abs(-vector_tl_bl[0] * math.sin(x_angle_rad) + vector_tl_bl[1] * math.cos(x_angle_rad))\n",
    "\n",
    "# Calculate square sizes\n",
    "square_size_x = aligned_x / 7  # 7 intervals between 8 squares\n",
    "square_size_y = aligned_y\n",
    "\n",
    "square_size_x, square_size_y"
   ]
  },
  {
   "cell_type": "markdown",
   "metadata": {},
   "source": [
    "# Captured pieces shelve no rotation"
   ]
  },
  {
   "cell_type": "code",
   "execution_count": 33,
   "metadata": {},
   "outputs": [],
   "source": [
    "# Initial Coordinates\n",
    "\n",
    "captured_bottom_left = (95.58, -238.95)\n",
    "captured_bottom_right = (-80.28, -238.94)\n",
    "captured_top_left = (95.58, -264.26)\n",
    "square_offset_x = -25.0\n",
    "square_offset_y = -25.0"
   ]
  },
  {
   "cell_type": "code",
   "execution_count": 34,
   "metadata": {},
   "outputs": [],
   "source": [
    "def coord(row, col):\n",
    "    # Calculate the displacement for the square's center in the chessboard coordinate system\n",
    "    dx = col * square_offset_x  \n",
    "    dy = row * square_offset_y  \n",
    "    \n",
    "    # Translate to robot coordinate system (origin at a1)\n",
    "    robot_x = captured_bottom_left[0] + dx\n",
    "    robot_y = captured_bottom_left[1] + dy\n",
    "    \n",
    "    return robot_x, robot_y"
   ]
  },
  {
   "cell_type": "code",
   "execution_count": 35,
   "metadata": {},
   "outputs": [
    {
     "data": {
      "text/plain": [
       "((95.58, -238.95), (-79.42, -238.95), (95.58, -213.95), (-79.42, -213.95))"
      ]
     },
     "execution_count": 35,
     "metadata": {},
     "output_type": "execute_result"
    }
   ],
   "source": [
    "(coord(0, 0), coord(0, 7), coord(1, 0), coord(1, 7))"
   ]
  }
 ],
 "metadata": {
  "kernelspec": {
   "display_name": "venv",
   "language": "python",
   "name": "python3"
  },
  "language_info": {
   "codemirror_mode": {
    "name": "ipython",
    "version": 3
   },
   "file_extension": ".py",
   "mimetype": "text/x-python",
   "name": "python",
   "nbconvert_exporter": "python",
   "pygments_lexer": "ipython3",
   "version": "3.13.1"
  }
 },
 "nbformat": 4,
 "nbformat_minor": 2
}
